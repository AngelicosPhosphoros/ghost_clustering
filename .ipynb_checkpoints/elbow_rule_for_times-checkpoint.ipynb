{
 "cells": [
  {
   "cell_type": "markdown",
   "metadata": {},
   "source": [
    "# This script is used for calculation of number of clusters for each time period"
   ]
  },
  {
   "cell_type": "code",
   "execution_count": null,
   "metadata": {
    "collapsed": true
   },
   "outputs": [],
   "source": [
    "import csv\n",
    "import numpy as np\n",
    "import matplotlib.pyplot as plt\n",
    "import pandas as pd\n",
    "from sklearn.cluster import KMeans\n",
    "%matplotlib inline"
   ]
  },
  {
   "cell_type": "code",
   "execution_count": null,
   "metadata": {
    "collapsed": true
   },
   "outputs": [],
   "source": [
    "border_times = [7,14,28,56,200]\n",
    "used_names = ['activity_quantity','med_ml_num','buynum', 'grind','quests_speed']"
   ]
  },
  {
   "cell_type": "code",
   "execution_count": null,
   "metadata": {
    "collapsed": false
   },
   "outputs": [],
   "source": [
    "def proceed_values(df):\n",
    "    clusters = []\n",
    "    for cluster_num in xrange(3,8):\n",
    "        i = 0\n",
    "        kmeans = KMeans(n_clusters = cluster_num)\n",
    "        kmeans.fit(df.ix[:,used_names])\n",
    "        best = kmeans\n",
    "        for x in range(5):\n",
    "            kmeans = KMeans(n_clusters = cluster_num)\n",
    "            kmeans.fit(df.ix[:,used_names])\n",
    "            if kmeans.inertia_<best.inertia_:\n",
    "                best = kmeans\n",
    "        clusters.append(best)\n",
    "    plt.plot(xrange(3,8),[x.inertia_ for x in clusters])\n",
    "    plt.ylabel('cost functions')\n",
    "    plt.show()"
   ]
  },
  {
   "cell_type": "code",
   "execution_count": null,
   "metadata": {
    "collapsed": false
   },
   "outputs": [],
   "source": [
    "for days in border_times:\n",
    "    scaling_params = [] # This is pairs of (expected value, variance)\n",
    "    # this function make each param standart normally distributed\n",
    "    def scaling(df):\n",
    "        for x in used_names:\n",
    "            exp_val = df[x].median()\n",
    "            variance = df[x].var()\n",
    "            scaling_params.append((exp_val,variance**0.5))\n",
    "            df[x].apply(lambda x: (x-exp_val)/variance)\n",
    "            q = df[x].quantile([0.01,0.99])\n",
    "            def quan(x):\n",
    "                if x<q[0.01] or x>q[0.99]:\n",
    "                    return q[0.01] if x<q[0.01] else q[0.99]\n",
    "                return x\n",
    "            df[x].apply(quan)\n",
    "        return df\n",
    "    # this function return converts values back\n",
    "    def rescaling(values):\n",
    "        print (scaling_params,values)\n",
    "        return [x[0][0]+x[0][1]*x[1] for x in zip(scaling_params,values)]\n",
    "    df = pd.read_csv('preprocessed_%d.csv'%days, sep = '|', low_memory = False)\n",
    "    df = scaling(df)\n",
    "    # print plots for elbow rule\n",
    "    print 'Work for period %d'%days\n",
    "    proceed_values(df)"
   ]
  },
  {
   "cell_type": "code",
   "execution_count": null,
   "metadata": {
    "collapsed": true
   },
   "outputs": [],
   "source": []
  },
  {
   "cell_type": "code",
   "execution_count": null,
   "metadata": {
    "collapsed": true
   },
   "outputs": [],
   "source": []
  }
 ],
 "metadata": {
  "kernelspec": {
   "display_name": "Python [Root]",
   "language": "python",
   "name": "Python [Root]"
  },
  "language_info": {
   "codemirror_mode": {
    "name": "ipython",
    "version": 2
   },
   "file_extension": ".py",
   "mimetype": "text/x-python",
   "name": "python",
   "nbconvert_exporter": "python",
   "pygments_lexer": "ipython2",
   "version": "2.7.12"
  }
 },
 "nbformat": 4,
 "nbformat_minor": 0
}
