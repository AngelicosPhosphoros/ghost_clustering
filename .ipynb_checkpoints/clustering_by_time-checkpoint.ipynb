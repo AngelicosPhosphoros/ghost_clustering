{
 "cells": [
  {
   "cell_type": "markdown",
   "metadata": {},
   "source": [
    "# This script calculate clusters for each time period"
   ]
  },
  {
   "cell_type": "code",
   "execution_count": 1,
   "metadata": {
    "collapsed": true
   },
   "outputs": [],
   "source": [
    "import csv\n",
    "import numpy as np\n",
    "import matplotlib.pyplot as plt\n",
    "import pandas as pd\n",
    "from sklearn.cluster import MiniBatchKMeans\n",
    "%matplotlib inline"
   ]
  },
  {
   "cell_type": "markdown",
   "metadata": {},
   "source": [
    "Initializing"
   ]
  },
  {
   "cell_type": "code",
   "execution_count": 2,
   "metadata": {
    "collapsed": false
   },
   "outputs": [],
   "source": [
    "# Calculated via elbow_rule_for_times.ipynb\n",
    "cluster_num = 4\n",
    "border_times = [7,14,28,56,200]\n",
    "used_names = ['activity_quantity','med_ml_num','buynum', 'grind','quests_speed']\n",
    "f = open(\"clusters_timed.csv\",\"wb\")\n",
    "writer = csv.writer(f, delimiter = '|')"
   ]
  },
  {
   "cell_type": "markdown",
   "metadata": {},
   "source": [
    "Working with every time period"
   ]
  },
  {
   "cell_type": "code",
   "execution_count": 3,
   "metadata": {
    "collapsed": false,
    "scrolled": false
   },
   "outputs": [
    {
     "name": "stderr",
     "output_type": "stream",
     "text": [
      "C:\\Anaconda2\\lib\\site-packages\\sklearn\\cluster\\k_means_.py:1279: DeprecationWarning: This function is deprecated. Please call randint(0, 46062 + 1) instead\n",
      "  0, n_samples - 1, init_size)\n",
      "C:\\Anaconda2\\lib\\site-packages\\sklearn\\cluster\\k_means_.py:630: DeprecationWarning: This function is deprecated. Please call randint(0, 46062 + 1) instead\n",
      "  0, n_samples - 1, init_size)\n",
      "C:\\Anaconda2\\lib\\site-packages\\sklearn\\cluster\\k_means_.py:630: DeprecationWarning: This function is deprecated. Please call randint(0, 46062 + 1) instead\n",
      "  0, n_samples - 1, init_size)\n",
      "C:\\Anaconda2\\lib\\site-packages\\sklearn\\cluster\\k_means_.py:630: DeprecationWarning: This function is deprecated. Please call randint(0, 46062 + 1) instead\n",
      "  0, n_samples - 1, init_size)\n",
      "C:\\Anaconda2\\lib\\site-packages\\sklearn\\cluster\\k_means_.py:1328: DeprecationWarning: This function is deprecated. Please call randint(0, 46062 + 1) instead\n",
      "  0, n_samples - 1, self.batch_size)\n",
      "C:\\Anaconda2\\lib\\site-packages\\sklearn\\cluster\\k_means_.py:1328: DeprecationWarning: This function is deprecated. Please call randint(0, 46062 + 1) instead\n",
      "  0, n_samples - 1, self.batch_size)\n",
      "C:\\Anaconda2\\lib\\site-packages\\sklearn\\cluster\\k_means_.py:1328: DeprecationWarning: This function is deprecated. Please call randint(0, 46062 + 1) instead\n",
      "  0, n_samples - 1, self.batch_size)\n",
      "C:\\Anaconda2\\lib\\site-packages\\sklearn\\cluster\\k_means_.py:1328: DeprecationWarning: This function is deprecated. Please call randint(0, 46062 + 1) instead\n",
      "  0, n_samples - 1, self.batch_size)\n",
      "C:\\Anaconda2\\lib\\site-packages\\sklearn\\cluster\\k_means_.py:1328: DeprecationWarning: This function is deprecated. Please call randint(0, 46062 + 1) instead\n",
      "  0, n_samples - 1, self.batch_size)\n",
      "C:\\Anaconda2\\lib\\site-packages\\sklearn\\cluster\\k_means_.py:1328: DeprecationWarning: This function is deprecated. Please call randint(0, 46062 + 1) instead\n",
      "  0, n_samples - 1, self.batch_size)\n",
      "C:\\Anaconda2\\lib\\site-packages\\sklearn\\cluster\\k_means_.py:1328: DeprecationWarning: This function is deprecated. Please call randint(0, 46062 + 1) instead\n",
      "  0, n_samples - 1, self.batch_size)\n",
      "C:\\Anaconda2\\lib\\site-packages\\sklearn\\cluster\\k_means_.py:1328: DeprecationWarning: This function is deprecated. Please call randint(0, 46062 + 1) instead\n",
      "  0, n_samples - 1, self.batch_size)\n",
      "C:\\Anaconda2\\lib\\site-packages\\sklearn\\cluster\\k_means_.py:1328: DeprecationWarning: This function is deprecated. Please call randint(0, 46062 + 1) instead\n",
      "  0, n_samples - 1, self.batch_size)\n",
      "C:\\Anaconda2\\lib\\site-packages\\sklearn\\cluster\\k_means_.py:1328: DeprecationWarning: This function is deprecated. Please call randint(0, 46062 + 1) instead\n",
      "  0, n_samples - 1, self.batch_size)\n",
      "C:\\Anaconda2\\lib\\site-packages\\sklearn\\cluster\\k_means_.py:1328: DeprecationWarning: This function is deprecated. Please call randint(0, 46062 + 1) instead\n",
      "  0, n_samples - 1, self.batch_size)\n"
     ]
    },
    {
     "name": "stdout",
     "output_type": "stream",
     "text": [
      "For days = 7\n",
      "['activity_quantity', 'med_ml_num', 'buynum', 'grind', 'quests_speed']\n",
      "([(3.0, 1.8851185340784167), (0.0, 0.12753300336050144), (0.0, 26.31112465729889), (0.0, 131.22414824733806), (1.0, 3.4672983449841235)], array([ 3.06116433,  0.06427168,  2.30112994,  3.50693933,  2.29094817]))\n",
      "    8.7707      0.0082     60.5453    460.1951      8.9434\n",
      "([(3.0, 1.8851185340784167), (0.0, 0.12753300336050144), (0.0, 26.31112465729889), (0.0, 131.22414824733806), (1.0, 3.4672983449841235)], array([  4.00000000e+00,   2.25000000e-01,   2.63750000e+00,\n",
      "         1.74811250e+03,   6.95000000e+00]))\n",
      "   10.5405      0.0287     69.3956  229394.5739     25.0977\n",
      "([(3.0, 1.8851185340784167), (0.0, 0.12753300336050144), (0.0, 26.31112465729889), (0.0, 131.22414824733806), (1.0, 3.4672983449841235)], array([  4.00000000e+00,   8.48484848e-02,   3.08080808e+00,\n",
      "         3.59123232e+02,   3.84040404e+00]))\n",
      "   10.5405      0.0108     81.0595  47125.6403     14.3158\n",
      "([(3.0, 1.8851185340784167), (0.0, 0.12753300336050144), (0.0, 26.31112465729889), (0.0, 131.22414824733806), (1.0, 3.4672983449841235)], array([  3.33333333e+00,   3.22222222e-01,   4.51438889e+02,\n",
      "         2.08888889e+00,   6.80000000e+00]))\n",
      "    9.2837      0.0411  11877.8649    274.1127     24.5776\n"
     ]
    },
    {
     "name": "stderr",
     "output_type": "stream",
     "text": [
      "C:\\Anaconda2\\lib\\site-packages\\sklearn\\cluster\\k_means_.py:1279: DeprecationWarning: This function is deprecated. Please call randint(0, 52922 + 1) instead\n",
      "  0, n_samples - 1, init_size)\n",
      "C:\\Anaconda2\\lib\\site-packages\\sklearn\\cluster\\k_means_.py:630: DeprecationWarning: This function is deprecated. Please call randint(0, 52922 + 1) instead\n",
      "  0, n_samples - 1, init_size)\n",
      "C:\\Anaconda2\\lib\\site-packages\\sklearn\\cluster\\k_means_.py:630: DeprecationWarning: This function is deprecated. Please call randint(0, 52922 + 1) instead\n",
      "  0, n_samples - 1, init_size)\n",
      "C:\\Anaconda2\\lib\\site-packages\\sklearn\\cluster\\k_means_.py:630: DeprecationWarning: This function is deprecated. Please call randint(0, 52922 + 1) instead\n",
      "  0, n_samples - 1, init_size)\n",
      "C:\\Anaconda2\\lib\\site-packages\\sklearn\\cluster\\k_means_.py:1328: DeprecationWarning: This function is deprecated. Please call randint(0, 52922 + 1) instead\n",
      "  0, n_samples - 1, self.batch_size)\n",
      "C:\\Anaconda2\\lib\\site-packages\\sklearn\\cluster\\k_means_.py:1328: DeprecationWarning: This function is deprecated. Please call randint(0, 52922 + 1) instead\n",
      "  0, n_samples - 1, self.batch_size)\n",
      "C:\\Anaconda2\\lib\\site-packages\\sklearn\\cluster\\k_means_.py:1328: DeprecationWarning: This function is deprecated. Please call randint(0, 52922 + 1) instead\n",
      "  0, n_samples - 1, self.batch_size)\n",
      "C:\\Anaconda2\\lib\\site-packages\\sklearn\\cluster\\k_means_.py:1328: DeprecationWarning: This function is deprecated. Please call randint(0, 52922 + 1) instead\n",
      "  0, n_samples - 1, self.batch_size)\n",
      "C:\\Anaconda2\\lib\\site-packages\\sklearn\\cluster\\k_means_.py:1328: DeprecationWarning: This function is deprecated. Please call randint(0, 52922 + 1) instead\n",
      "  0, n_samples - 1, self.batch_size)\n",
      "C:\\Anaconda2\\lib\\site-packages\\sklearn\\cluster\\k_means_.py:1328: DeprecationWarning: This function is deprecated. Please call randint(0, 52922 + 1) instead\n",
      "  0, n_samples - 1, self.batch_size)\n",
      "C:\\Anaconda2\\lib\\site-packages\\sklearn\\cluster\\k_means_.py:1328: DeprecationWarning: This function is deprecated. Please call randint(0, 52922 + 1) instead\n",
      "  0, n_samples - 1, self.batch_size)\n",
      "C:\\Anaconda2\\lib\\site-packages\\sklearn\\cluster\\k_means_.py:1328: DeprecationWarning: This function is deprecated. Please call randint(0, 52922 + 1) instead\n",
      "  0, n_samples - 1, self.batch_size)\n",
      "C:\\Anaconda2\\lib\\site-packages\\sklearn\\cluster\\k_means_.py:1328: DeprecationWarning: This function is deprecated. Please call randint(0, 52922 + 1) instead\n",
      "  0, n_samples - 1, self.batch_size)\n",
      "C:\\Anaconda2\\lib\\site-packages\\sklearn\\cluster\\k_means_.py:1328: DeprecationWarning: This function is deprecated. Please call randint(0, 52922 + 1) instead\n",
      "  0, n_samples - 1, self.batch_size)\n",
      "C:\\Anaconda2\\lib\\site-packages\\sklearn\\cluster\\k_means_.py:1328: DeprecationWarning: This function is deprecated. Please call randint(0, 52922 + 1) instead\n",
      "  0, n_samples - 1, self.batch_size)\n"
     ]
    },
    {
     "name": "stdout",
     "output_type": "stream",
     "text": [
      "For days = 14\n",
      "['activity_quantity', 'med_ml_num', 'buynum', 'grind', 'quests_speed']\n",
      "([(4.0, 4.119808668528722), (0.0, 0.10719528695281771), (0.0, 22.614987822862716), (0.0, 126.71354424219449), (1.0, 2.8758633783286123)], array([ 5.17401046,  0.05345059,  2.65121282,  3.90985318,  1.73212751]))\n",
      "   25.3159      0.0057     59.9571    495.4314      5.9814\n",
      "([(4.0, 4.119808668528722), (0.0, 0.10719528695281771), (0.0, 22.614987822862716), (0.0, 126.71354424219449), (1.0, 2.8758633783286123)], array([  2.66666667e+00,   0.00000000e+00,   6.66666667e+00,\n",
      "         1.60477778e+03,   3.88888889e-01]))\n",
      "   14.9862      0.0000    150.7666  203347.0799      2.1184\n",
      "([(4.0, 4.119808668528722), (0.0, 0.10719528695281771), (0.0, 22.614987822862716), (0.0, 126.71354424219449), (1.0, 2.8758633783286123)], array([  7.79545455e+00,   8.08514718e-02,   5.75230962e+00,\n",
      "         1.65962893e+02,   3.72651572e+00]))\n",
      "   36.1158      0.0087    130.0884  21029.7463     11.7170\n",
      "([(4.0, 4.119808668528722), (0.0, 0.10719528695281771), (0.0, 22.614987822862716), (0.0, 126.71354424219449), (1.0, 2.8758633783286123)], array([  8.07142857e+00,   8.06693307e-02,   1.42857143e-01,\n",
      "         5.74575341e+02,   4.12125375e+00]))\n",
      "   37.2527      0.0086      3.2307  72806.4779     12.8522\n"
     ]
    },
    {
     "name": "stderr",
     "output_type": "stream",
     "text": [
      "C:\\Anaconda2\\lib\\site-packages\\sklearn\\cluster\\k_means_.py:1279: DeprecationWarning: This function is deprecated. Please call randint(0, 58225 + 1) instead\n",
      "  0, n_samples - 1, init_size)\n",
      "C:\\Anaconda2\\lib\\site-packages\\sklearn\\cluster\\k_means_.py:630: DeprecationWarning: This function is deprecated. Please call randint(0, 58225 + 1) instead\n",
      "  0, n_samples - 1, init_size)\n",
      "C:\\Anaconda2\\lib\\site-packages\\sklearn\\cluster\\k_means_.py:630: DeprecationWarning: This function is deprecated. Please call randint(0, 58225 + 1) instead\n",
      "  0, n_samples - 1, init_size)\n",
      "C:\\Anaconda2\\lib\\site-packages\\sklearn\\cluster\\k_means_.py:630: DeprecationWarning: This function is deprecated. Please call randint(0, 58225 + 1) instead\n",
      "  0, n_samples - 1, init_size)\n",
      "C:\\Anaconda2\\lib\\site-packages\\sklearn\\cluster\\k_means_.py:1328: DeprecationWarning: This function is deprecated. Please call randint(0, 58225 + 1) instead\n",
      "  0, n_samples - 1, self.batch_size)\n",
      "C:\\Anaconda2\\lib\\site-packages\\sklearn\\cluster\\k_means_.py:1328: DeprecationWarning: This function is deprecated. Please call randint(0, 58225 + 1) instead\n",
      "  0, n_samples - 1, self.batch_size)\n",
      "C:\\Anaconda2\\lib\\site-packages\\sklearn\\cluster\\k_means_.py:1328: DeprecationWarning: This function is deprecated. Please call randint(0, 58225 + 1) instead\n",
      "  0, n_samples - 1, self.batch_size)\n",
      "C:\\Anaconda2\\lib\\site-packages\\sklearn\\cluster\\k_means_.py:1328: DeprecationWarning: This function is deprecated. Please call randint(0, 58225 + 1) instead\n",
      "  0, n_samples - 1, self.batch_size)\n",
      "C:\\Anaconda2\\lib\\site-packages\\sklearn\\cluster\\k_means_.py:1328: DeprecationWarning: This function is deprecated. Please call randint(0, 58225 + 1) instead\n",
      "  0, n_samples - 1, self.batch_size)\n",
      "C:\\Anaconda2\\lib\\site-packages\\sklearn\\cluster\\k_means_.py:1328: DeprecationWarning: This function is deprecated. Please call randint(0, 58225 + 1) instead\n",
      "  0, n_samples - 1, self.batch_size)\n",
      "C:\\Anaconda2\\lib\\site-packages\\sklearn\\cluster\\k_means_.py:1328: DeprecationWarning: This function is deprecated. Please call randint(0, 58225 + 1) instead\n",
      "  0, n_samples - 1, self.batch_size)\n",
      "C:\\Anaconda2\\lib\\site-packages\\sklearn\\cluster\\k_means_.py:1328: DeprecationWarning: This function is deprecated. Please call randint(0, 58225 + 1) instead\n",
      "  0, n_samples - 1, self.batch_size)\n",
      "C:\\Anaconda2\\lib\\site-packages\\sklearn\\cluster\\k_means_.py:1328: DeprecationWarning: This function is deprecated. Please call randint(0, 58225 + 1) instead\n",
      "  0, n_samples - 1, self.batch_size)\n",
      "C:\\Anaconda2\\lib\\site-packages\\sklearn\\cluster\\k_means_.py:1328: DeprecationWarning: This function is deprecated. Please call randint(0, 58225 + 1) instead\n",
      "  0, n_samples - 1, self.batch_size)\n",
      "C:\\Anaconda2\\lib\\site-packages\\sklearn\\cluster\\k_means_.py:1328: DeprecationWarning: This function is deprecated. Please call randint(0, 58225 + 1) instead\n",
      "  0, n_samples - 1, self.batch_size)\n"
     ]
    },
    {
     "name": "stdout",
     "output_type": "stream",
     "text": [
      "For days = 28\n",
      "['activity_quantity', 'med_ml_num', 'buynum', 'grind', 'quests_speed']\n",
      "([(4.0, 8.071190919461445), (0.0, 0.09662462001705081), (0.0, 20.31635810804863), (0.0, 127.59725774139693), (0.732051282051282, 2.638880923709842)], array([ 7.93208955,  0.047618  ,  1.88882266,  3.9210685 ,  1.4824414 ]))\n",
      "   68.0214      0.0046     38.3740    500.3176      4.6440\n",
      "([(4.0, 8.071190919461445), (0.0, 0.09662462001705081), (0.0, 20.31635810804863), (0.0, 127.59725774139693), (0.732051282051282, 2.638880923709842)], array([  1.56904762e+01,   5.79707279e-02,   5.24246204e+00,\n",
      "         1.66813468e+02,   2.65997733e+00]))\n",
      "  130.6408      0.0056    106.5077  21284.9410      7.7514\n",
      "([(4.0, 8.071190919461445), (0.0, 0.09662462001705081), (0.0, 20.31635810804863), (0.0, 127.59725774139693), (0.732051282051282, 2.638880923709842)], array([  7.09090909e+00,   7.75224775e-02,   2.59740260e-02,\n",
      "         6.61943673e+02,   3.07519148e+00]))\n",
      "   61.2321      0.0075      0.5277  84462.1975      8.8471\n",
      "([(4.0, 8.071190919461445), (0.0, 0.09662462001705081), (0.0, 20.31635810804863), (0.0, 127.59725774139693), (0.732051282051282, 2.638880923709842)], array([  1.25714286e+01,   1.50344753e-01,   1.83605311e+02,\n",
      "         9.23335488e+00,   4.52828054e+00]))\n",
      "  105.4664      0.0145   3730.1913   1178.1508     12.6816\n"
     ]
    },
    {
     "name": "stderr",
     "output_type": "stream",
     "text": [
      "C:\\Anaconda2\\lib\\site-packages\\sklearn\\cluster\\k_means_.py:1279: DeprecationWarning: This function is deprecated. Please call randint(0, 62300 + 1) instead\n",
      "  0, n_samples - 1, init_size)\n",
      "C:\\Anaconda2\\lib\\site-packages\\sklearn\\cluster\\k_means_.py:630: DeprecationWarning: This function is deprecated. Please call randint(0, 62300 + 1) instead\n",
      "  0, n_samples - 1, init_size)\n",
      "C:\\Anaconda2\\lib\\site-packages\\sklearn\\cluster\\k_means_.py:630: DeprecationWarning: This function is deprecated. Please call randint(0, 62300 + 1) instead\n",
      "  0, n_samples - 1, init_size)\n",
      "C:\\Anaconda2\\lib\\site-packages\\sklearn\\cluster\\k_means_.py:630: DeprecationWarning: This function is deprecated. Please call randint(0, 62300 + 1) instead\n",
      "  0, n_samples - 1, init_size)\n",
      "C:\\Anaconda2\\lib\\site-packages\\sklearn\\cluster\\k_means_.py:1328: DeprecationWarning: This function is deprecated. Please call randint(0, 62300 + 1) instead\n",
      "  0, n_samples - 1, self.batch_size)\n",
      "C:\\Anaconda2\\lib\\site-packages\\sklearn\\cluster\\k_means_.py:1328: DeprecationWarning: This function is deprecated. Please call randint(0, 62300 + 1) instead\n",
      "  0, n_samples - 1, self.batch_size)\n",
      "C:\\Anaconda2\\lib\\site-packages\\sklearn\\cluster\\k_means_.py:1328: DeprecationWarning: This function is deprecated. Please call randint(0, 62300 + 1) instead\n",
      "  0, n_samples - 1, self.batch_size)\n",
      "C:\\Anaconda2\\lib\\site-packages\\sklearn\\cluster\\k_means_.py:1328: DeprecationWarning: This function is deprecated. Please call randint(0, 62300 + 1) instead\n",
      "  0, n_samples - 1, self.batch_size)\n",
      "C:\\Anaconda2\\lib\\site-packages\\sklearn\\cluster\\k_means_.py:1328: DeprecationWarning: This function is deprecated. Please call randint(0, 62300 + 1) instead\n",
      "  0, n_samples - 1, self.batch_size)\n",
      "C:\\Anaconda2\\lib\\site-packages\\sklearn\\cluster\\k_means_.py:1328: DeprecationWarning: This function is deprecated. Please call randint(0, 62300 + 1) instead\n",
      "  0, n_samples - 1, self.batch_size)\n",
      "C:\\Anaconda2\\lib\\site-packages\\sklearn\\cluster\\k_means_.py:1328: DeprecationWarning: This function is deprecated. Please call randint(0, 62300 + 1) instead\n",
      "  0, n_samples - 1, self.batch_size)\n",
      "C:\\Anaconda2\\lib\\site-packages\\sklearn\\cluster\\k_means_.py:1328: DeprecationWarning: This function is deprecated. Please call randint(0, 62300 + 1) instead\n",
      "  0, n_samples - 1, self.batch_size)\n",
      "C:\\Anaconda2\\lib\\site-packages\\sklearn\\cluster\\k_means_.py:1328: DeprecationWarning: This function is deprecated. Please call randint(0, 62300 + 1) instead\n",
      "  0, n_samples - 1, self.batch_size)\n",
      "C:\\Anaconda2\\lib\\site-packages\\sklearn\\cluster\\k_means_.py:1328: DeprecationWarning: This function is deprecated. Please call randint(0, 62300 + 1) instead\n",
      "  0, n_samples - 1, self.batch_size)\n",
      "C:\\Anaconda2\\lib\\site-packages\\sklearn\\cluster\\k_means_.py:1328: DeprecationWarning: This function is deprecated. Please call randint(0, 62300 + 1) instead\n",
      "  0, n_samples - 1, self.batch_size)\n",
      "C:\\Anaconda2\\lib\\site-packages\\sklearn\\cluster\\k_means_.py:1328: DeprecationWarning: This function is deprecated. Please call randint(0, 62300 + 1) instead\n",
      "  0, n_samples - 1, self.batch_size)\n"
     ]
    },
    {
     "name": "stdout",
     "output_type": "stream",
     "text": [
      "For days = 56\n",
      "['activity_quantity', 'med_ml_num', 'buynum', 'grind', 'quests_speed']\n",
      "([(4.0, 14.214668601252198), (0.0, 0.08935303686910064), (0.0, 19.389532684137688), (0.0, 106.51020696478375), (0.5454545454545454, 2.5659749486544254)], array([ 38.55348837,   0.06492081,  16.1468178 ,  16.93277227,   1.09513109]))\n",
      "  552.0251      0.0058    313.0793   1803.5131      3.3555\n",
      "([(4.0, 14.214668601252198), (0.0, 0.08935303686910064), (0.0, 19.389532684137688), (0.0, 106.51020696478375), (0.5454545454545454, 2.5659749486544254)], array([ 6.1904376 ,  0.03996988,  1.31906368,  1.52984752,  1.60548568]))\n",
      "   91.9950      0.0036     25.5760    162.9444      4.6651\n",
      "([(4.0, 14.214668601252198), (0.0, 0.08935303686910064), (0.0, 19.389532684137688), (0.0, 106.51020696478375), (0.5454545454545454, 2.5659749486544254)], array([  1.79333333e+01,   6.52803030e-02,   1.62713384e+00,\n",
      "         3.39774627e+02,   2.09479004e+00]))\n",
      "  258.9164      0.0058     31.5494  36189.4659      5.9206\n",
      "([(4.0, 14.214668601252198), (0.0, 0.08935303686910064), (0.0, 19.389532684137688), (0.0, 106.51020696478375), (0.5454545454545454, 2.5659749486544254)], array([  2.68888889e+01,   7.72674385e-02,   6.34472693e+00,\n",
      "         1.37467670e+02,   1.52037424e+00]))\n",
      "  386.2166      0.0069    123.0213  14641.7100      4.4467\n"
     ]
    },
    {
     "name": "stderr",
     "output_type": "stream",
     "text": [
      "C:\\Anaconda2\\lib\\site-packages\\sklearn\\cluster\\k_means_.py:1279: DeprecationWarning: This function is deprecated. Please call randint(0, 66465 + 1) instead\n",
      "  0, n_samples - 1, init_size)\n",
      "C:\\Anaconda2\\lib\\site-packages\\sklearn\\cluster\\k_means_.py:630: DeprecationWarning: This function is deprecated. Please call randint(0, 66465 + 1) instead\n",
      "  0, n_samples - 1, init_size)\n",
      "C:\\Anaconda2\\lib\\site-packages\\sklearn\\cluster\\k_means_.py:630: DeprecationWarning: This function is deprecated. Please call randint(0, 66465 + 1) instead\n",
      "  0, n_samples - 1, init_size)\n",
      "C:\\Anaconda2\\lib\\site-packages\\sklearn\\cluster\\k_means_.py:630: DeprecationWarning: This function is deprecated. Please call randint(0, 66465 + 1) instead\n",
      "  0, n_samples - 1, init_size)\n",
      "C:\\Anaconda2\\lib\\site-packages\\sklearn\\cluster\\k_means_.py:1328: DeprecationWarning: This function is deprecated. Please call randint(0, 66465 + 1) instead\n",
      "  0, n_samples - 1, self.batch_size)\n",
      "C:\\Anaconda2\\lib\\site-packages\\sklearn\\cluster\\k_means_.py:1328: DeprecationWarning: This function is deprecated. Please call randint(0, 66465 + 1) instead\n",
      "  0, n_samples - 1, self.batch_size)\n",
      "C:\\Anaconda2\\lib\\site-packages\\sklearn\\cluster\\k_means_.py:1328: DeprecationWarning: This function is deprecated. Please call randint(0, 66465 + 1) instead\n",
      "  0, n_samples - 1, self.batch_size)\n",
      "C:\\Anaconda2\\lib\\site-packages\\sklearn\\cluster\\k_means_.py:1328: DeprecationWarning: This function is deprecated. Please call randint(0, 66465 + 1) instead\n",
      "  0, n_samples - 1, self.batch_size)\n",
      "C:\\Anaconda2\\lib\\site-packages\\sklearn\\cluster\\k_means_.py:1328: DeprecationWarning: This function is deprecated. Please call randint(0, 66465 + 1) instead\n",
      "  0, n_samples - 1, self.batch_size)\n",
      "C:\\Anaconda2\\lib\\site-packages\\sklearn\\cluster\\k_means_.py:1328: DeprecationWarning: This function is deprecated. Please call randint(0, 66465 + 1) instead\n",
      "  0, n_samples - 1, self.batch_size)\n",
      "C:\\Anaconda2\\lib\\site-packages\\sklearn\\cluster\\k_means_.py:1328: DeprecationWarning: This function is deprecated. Please call randint(0, 66465 + 1) instead\n",
      "  0, n_samples - 1, self.batch_size)\n",
      "C:\\Anaconda2\\lib\\site-packages\\sklearn\\cluster\\k_means_.py:1328: DeprecationWarning: This function is deprecated. Please call randint(0, 66465 + 1) instead\n",
      "  0, n_samples - 1, self.batch_size)\n",
      "C:\\Anaconda2\\lib\\site-packages\\sklearn\\cluster\\k_means_.py:1328: DeprecationWarning: This function is deprecated. Please call randint(0, 66465 + 1) instead\n",
      "  0, n_samples - 1, self.batch_size)\n",
      "C:\\Anaconda2\\lib\\site-packages\\sklearn\\cluster\\k_means_.py:1328: DeprecationWarning: This function is deprecated. Please call randint(0, 66465 + 1) instead\n",
      "  0, n_samples - 1, self.batch_size)\n",
      "C:\\Anaconda2\\lib\\site-packages\\sklearn\\cluster\\k_means_.py:1328: DeprecationWarning: This function is deprecated. Please call randint(0, 66465 + 1) instead\n",
      "  0, n_samples - 1, self.batch_size)\n"
     ]
    },
    {
     "name": "stdout",
     "output_type": "stream",
     "text": [
      "For days = 200\n",
      "['activity_quantity', 'med_ml_num', 'buynum', 'grind', 'quests_speed']\n",
      "([(4.0, 25.406183443454598), (0.0, 0.08574464030446746), (0.0, 18.338173167906646), (0.0, 84.4251478869943), (0.5, 2.4920714455308572)], array([ 6.2707088 ,  0.0383772 ,  1.51242957,  2.3836708 ,  1.45703486]))\n",
      "  163.3148      0.0033     27.7352    201.2418      4.1310\n",
      "([(4.0, 25.406183443454598), (0.0, 0.08574464030446746), (0.0, 18.338173167906646), (0.0, 84.4251478869943), (0.5, 2.4920714455308572)], array([  3.02142857e+01,   6.80127236e-02,   1.50028375e+01,\n",
      "         2.14351992e+02,   3.37189885e+00]))\n",
      "  771.6297      0.0058    275.1246  18096.6986      8.9030\n",
      "([(4.0, 25.406183443454598), (0.0, 0.08574464030446746), (0.0, 18.338173167906646), (0.0, 84.4251478869943), (0.5, 2.4920714455308572)], array([  1.06666667e+01,   7.12788260e-02,   2.13888889e+01,\n",
      "         9.26432914e+02,   2.42767296e+00]))\n",
      "  274.9993      0.0061    392.2331  78214.2358      6.5499\n",
      "([(4.0, 25.406183443454598), (0.0, 0.08574464030446746), (0.0, 18.338173167906646), (0.0, 84.4251478869943), (0.5, 2.4920714455308572)], array([  6.53897436e+01,   4.41089187e-02,   5.66932948e+00,\n",
      "         1.35889840e+01,   5.84518032e-01]))\n",
      " 1665.3038      0.0038    103.9651   1147.2520      1.9567\n"
     ]
    }
   ],
   "source": [
    "for days in border_times:\n",
    "    scaling_params = [] # This is pairs of (expected value, variance)\n",
    "    # this function make each param standart normally distributed\n",
    "    def scaling(df):\n",
    "        for x in used_names:\n",
    "            exp_val = df[x].median()\n",
    "            variance = df[x].var()\n",
    "            scaling_params.append((exp_val,variance**0.5))\n",
    "            df[x].apply(lambda x: (x-exp_val)/variance)\n",
    "            q = df[x].quantile([0.01,0.99])\n",
    "            def quan(x):\n",
    "                if x<q[0.01] or x>q[0.99]:\n",
    "                    return q[0.01] if x<q[0.01] else q[0.99]\n",
    "                return x\n",
    "            df[x].apply(quan)\n",
    "        return df\n",
    "    # this function return converts values back\n",
    "    def rescaling(values):\n",
    "        print (scaling_params,values)\n",
    "        return [x[0][0]+x[0][1]*x[1] for x in zip(scaling_params,values)]\n",
    "    df = pd.read_csv('preprocessed_%d.csv'%days, sep = '|', low_memory = False)\n",
    "    df = scaling(df)\n",
    "    writer.writerow([days,':']+['']*3)\n",
    "    # search clusters\n",
    "    kmeans = MiniBatchKMeans(n_clusters = cluster_num)\n",
    "    kmeans.fit(df.ix[:,used_names])\n",
    "    prediction = kmeans.predict(df.ix[:,used_names])\n",
    "    # output of cluster centroids\n",
    "    writer.writerow(['cluster_id', 'user_count'] + used_names)\n",
    "    print \"For days = %d\"%days\n",
    "    print used_names\n",
    "    ind = 0\n",
    "    for x in kmeans.cluster_centers_:\n",
    "        res = rescaling(x)\n",
    "        writer.writerow([ind, len([x for x in prediction if ind == x])]+res)\n",
    "        print '  '.join(\"{:10.4f}\".format(i) for i in res)\n",
    "        ind +=1\n",
    "    # output of clusters\n",
    "    with open('cluster_elements_%d.csv'%days,'wb') as clusters_file:\n",
    "        wr = csv.writer(clusters_file, delimiter='|',\n",
    "                                quotechar='\"', quoting=csv.QUOTE_MINIMAL)\n",
    "        wr.writerow(['id','cluster_index'])\n",
    "        for i in xrange(len(prediction)):\n",
    "            wr.writerow([df['id'].ix[i],prediction[i]])\n",
    "        clusters_file.close()"
   ]
  },
  {
   "cell_type": "code",
   "execution_count": 4,
   "metadata": {
    "collapsed": true
   },
   "outputs": [],
   "source": [
    "f.close()"
   ]
  },
  {
   "cell_type": "code",
   "execution_count": null,
   "metadata": {
    "collapsed": false
   },
   "outputs": [],
   "source": []
  },
  {
   "cell_type": "code",
   "execution_count": null,
   "metadata": {
    "collapsed": true
   },
   "outputs": [],
   "source": []
  }
 ],
 "metadata": {
  "anaconda-cloud": {},
  "kernelspec": {
   "display_name": "Python [Root]",
   "language": "python",
   "name": "Python [Root]"
  },
  "language_info": {
   "codemirror_mode": {
    "name": "ipython",
    "version": 2
   },
   "file_extension": ".py",
   "mimetype": "text/x-python",
   "name": "python",
   "nbconvert_exporter": "python",
   "pygments_lexer": "ipython2",
   "version": "2.7.12"
  }
 },
 "nbformat": 4,
 "nbformat_minor": 0
}
