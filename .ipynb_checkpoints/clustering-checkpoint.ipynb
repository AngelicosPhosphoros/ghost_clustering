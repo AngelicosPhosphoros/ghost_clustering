{
 "cells": [
  {
   "cell_type": "code",
   "execution_count": 23,
   "metadata": {
    "collapsed": false
   },
   "outputs": [
    {
     "name": "stdout",
     "output_type": "stream",
     "text": [
      "Started loading\n",
      "Finished\n",
      "52483 8386 50478\n"
     ]
    }
   ],
   "source": [
    "import matplotlib.pyplot as plt\n",
    "import pandas as pd\n",
    "%matplotlib inline\n",
    "\n",
    "class User(object):\n",
    "    \"\"\"docstring for User\"\"\"\n",
    "    def __init__(self, arg):\n",
    "        super(User, self).__init__()\n",
    "        self.get_from_string(arg)\n",
    "    def get_from_string(self,s):\n",
    "        def checked_int(s, default):\n",
    "            try:\n",
    "                return int(s)\n",
    "            except:\n",
    "                return default\n",
    "        def check_bool(st):\n",
    "            return checked_int(st,0) # st=='1'\n",
    "        splitted = s.split('\\t')\n",
    "        #print splitted\n",
    "        #raw_input()\n",
    "        self.id = int(splitted[0])\n",
    "        self.reg_time = int(splitted[1])\n",
    "        self.gender = splitted[2]\n",
    "        self.birthyear = checked_int(splitted[3],0)\n",
    "        self.country = splitted[4]\n",
    "        self.traffic = splitted[5]\n",
    "        self.alive_flag = check_bool(splitted[6])\n",
    "        self.payer_flag = check_bool(splitted[7])\n",
    "        self.ml_num = checked_int(splitted[8],0)\n",
    "        self.clusters_ended = checked_int(splitted[9],0)\n",
    "        self.clusters_expired = checked_int(splitted[10],0)\n",
    "        self.clusters_open = checked_int(splitted[11],0)\n",
    "        self.user_lang = splitted[12]\n",
    "        self.app_lang = splitted[13]\n",
    "        self.socnet_friends_num = checked_int(splitted[14],0)\n",
    "        self.app_friends_num = checked_int(splitted[15],0)\n",
    "        self.timezone = splitted[16]\n",
    "        self.timezone = self.timezone[:len(self.timezone)-1]\n",
    "        #print self.gender\n",
    "    def as_tuple(self):\n",
    "        return (self.id, self.reg_time, -1 if self.gender == 'f' else 1 if self.gender =='m' else 0, self.birthyear,\\\n",
    "            self.country, self.traffic, self.alive_flag, self.payer_flag, self.ml_num, self.clusters_ended, self.clusters_expired, self.clusters_open,\\\n",
    "            self.user_lang, self.app_lang, self.socnet_friends_num, self.app_friends_num, self.timezone) \n",
    "\n",
    "def load_data():\n",
    "    f = open('pinfo.txt')\n",
    "    users = [User(x) for x in f]\n",
    "    f.close()\n",
    "    return users\n",
    "print 'Started loading'\n",
    "users = load_data()\n",
    "#print [x.gender for x in users]\n",
    "print 'Finished'\n",
    "women, men, other = filter(lambda x: x.gender == 'f',users), filter(lambda x: x.gender == 'm',users), filter(lambda x: x.gender != 'f' and x.gender!='m',users)\n",
    "print len(women), len(men), len(other)\n"
   ]
  },
  {
   "cell_type": "code",
   "execution_count": 24,
   "metadata": {
    "collapsed": false
   },
   "outputs": [
    {
     "data": {
      "image/png": "[encoded data removed]",
      "text/plain": [
       "<matplotlib.figure.Figure at 0x1796ee10>"
      ]
     },
     "metadata": {},
     "output_type": "display_data"
    }
   ],
   "source": [
    "\n",
    "def users_to_dataframe(users):\n",
    "    cols = 'id,reg_time,gender,birthyear,country,traffic,alive_flag,payer_flag,ml_num,clusters_ended,clusters_expired,clusters_open,user_lang,app_lang,socnet_friends_num,app_friends_num,timezone'.split(',')\n",
    "    return pd.DataFrame(data = [x.as_tuple() for x in users], columns = cols)\n",
    "\n",
    "df = users_to_dataframe(filter(lambda x:x.socnet_friends_num<500,women))\n",
    "#(column = 'app_friends_num')\n",
    "df['socnet_friends_num'].hist()\n",
    "plt.show()"
   ]
  },
  {
   "cell_type": "code",
   "execution_count": 25,
   "metadata": {
    "collapsed": false
   },
   "outputs": [
    {
     "data": {
      "text/plain": [
       "KstestResult(statistic=0.50132247869809299, pvalue=0.0)"
      ]
     },
     "execution_count": 25,
     "metadata": {},
     "output_type": "execute_result"
    }
   ],
   "source": [
    "import scipy.stats as st\n",
    "import numpy as np\n",
    "st.kstest(np.array([x.socnet_friends_num for x in women]), 'expon')"
   ]
  },
  {
   "cell_type": "code",
   "execution_count": 55,
   "metadata": {
    "collapsed": false
   },
   "outputs": [
    {
     "data": {
      "text/plain": [
       "KMeans(copy_x=True, init='k-means++', max_iter=300, n_clusters=8, n_init=10,\n",
       "    n_jobs=1, precompute_distances='auto', random_state=None, tol=0.0001,\n",
       "    verbose=0)"
      ]
     },
     "execution_count": 55,
     "metadata": {},
     "output_type": "execute_result"
    }
   ],
   "source": [
    "from sklearn.cluster import KMeans\n",
    "kmeans = KMeans()\n",
    "kmeans.fit(df.ix[:,['reg_time','gender','alive_flag','payer_flag','ml_num','clusters_ended','clusters_expired','clusters_open',\n",
    "               'socnet_friends_num', 'app_friends_num']])"
   ]
  },
  {
   "cell_type": "code",
   "execution_count": 61,
   "metadata": {
    "collapsed": false
   },
   "outputs": [
    {
     "name": "stdout",
     "output_type": "stream",
     "text": [
      "reg_time  gender  alive_flag  payer_flag  ml_num  clusters_ended  clusters_expired  clusters_open  socnet_friends_num  app_friends_num\n",
      "\n",
      "\n",
      "\n",
      "\n",
      "\n",
      "\n",
      "\n",
      "\n"
     ]
    }
   ],
   "source": [
    "print '  '.join(['reg_time','gender','alive_flag','payer_flag','ml_num','clusters_ended','clusters_expired','clusters_open',\n",
    "               'socnet_friends_num', 'app_friends_num'])\n",
    "for x in kmeans.cluster_centers_:\n",
    "    print '  '.join(str(i) for i in x)"
   ]
  },
  {
   "cell_type": "code",
   "execution_count": null,
   "metadata": {
    "collapsed": true
   },
   "outputs": [],
   "source": []
  }
 ],
 "metadata": {
  "anaconda-cloud": {},
  "kernelspec": {
   "display_name": "Python [Root]",
   "language": "python",
   "name": "Python [Root]"
  },
  "language_info": {
   "codemirror_mode": {
    "name": "ipython",
    "version": 2
   },
   "file_extension": ".py",
   "mimetype": "text/x-python",
   "name": "python",
   "nbconvert_exporter": "python",
   "pygments_lexer": "ipython2",
   "version": "2.7.12"
  }
 },
 "nbformat": 4,
 "nbformat_minor": 0
}
