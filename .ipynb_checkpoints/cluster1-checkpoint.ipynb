{
 "cells": [
  {
   "cell_type": "markdown",
   "metadata": {},
   "source": [
    "# This is a file for preprocessing data and for searching of optimal number of clusters"
   ]
  },
  {
   "cell_type": "code",
   "execution_count": 1,
   "metadata": {
    "collapsed": true
   },
   "outputs": [],
   "source": [
    "import csv\n",
    "import numpy as np\n",
    "import matplotlib.pyplot as plt\n",
    "import pandas as pd\n",
    "from sklearn.cluster import KMeans\n",
    "%matplotlib inline"
   ]
  },
  {
   "cell_type": "code",
   "execution_count": 2,
   "metadata": {
    "collapsed": false
   },
   "outputs": [],
   "source": [
    "#df = pd.read_csv('pact.csv', sep = '|', low_memory = False)\n",
    "#print df\n",
    "pactcsv = 'pact2.csv'\n",
    "pinfocsv = 'pinfo2.csv'"
   ]
  },
  {
   "cell_type": "markdown",
   "metadata": {},
   "source": [
    "convertion of info from file to data"
   ]
  },
  {
   "cell_type": "code",
   "execution_count": 3,
   "metadata": {
    "collapsed": false
   },
   "outputs": [],
   "source": [
    "def convert(s):\n",
    "            try:\n",
    "                return int(s)\n",
    "            except:\n",
    "                pass\n",
    "            try:\n",
    "                return float(s)\n",
    "            except:\n",
    "                # booleans\n",
    "                if s == 'False':\n",
    "                    return 0\n",
    "                elif s=='True':\n",
    "                    return 1\n",
    "                # genders\n",
    "                elif s=='f':\n",
    "                    return -1\n",
    "                elif s=='m':\n",
    "                    return 1\n",
    "                else:\n",
    "                    return s"
   ]
  },
  {
   "cell_type": "code",
   "execution_count": 4,
   "metadata": {
    "collapsed": false
   },
   "outputs": [],
   "source": [
    "# preprocess some data\n",
    "#with open(pinfocsv, 'rb') as f:\n",
    "#    reader = csv.reader(f,  delimiter='|')\n",
    "#    name_list = None\n",
    "#    values = dict()\n",
    "#    for row in reader:\n",
    "#        if name_list == None:\n",
    "#            name_list = row\n",
    "#            print name_list\n",
    "#        else:\n",
    "#            values[int(row[0])]=[convert(x) for x in row]\n",
    "#    f.close()\n",
    "#lens = set()\n",
    "#for x in values:\n",
    "#    lens.add(len(values[x]))\n",
    "#print lens"
   ]
  },
  {
   "cell_type": "markdown",
   "metadata": {},
   "source": [
    "This part loads info from pact.csv and calculate values for clustering"
   ]
  },
  {
   "cell_type": "code",
   "execution_count": 5,
   "metadata": {
    "collapsed": false
   },
   "outputs": [
    {
     "name": "stdout",
     "output_type": "stream",
     "text": [
      "['id', 'actdate', 'actdate_num', 'actflag', 'payflag', 'pgrflag', 'ml_num', 'transactions', 'quests_end', 'm_quests_end', 'grindnum', 'asknum', 'buynum', 'crystallnum', 'days_from_last_actdate', 'days_from_last_payment']\n",
      "set([6])\n"
     ]
    }
   ],
   "source": [
    "import sys\n",
    "values = dict()\n",
    "with open (pactcsv,'r') as f:\n",
    "    reader = csv.reader(f,  delimiter='|')\n",
    "    names2 = None\n",
    "    values2 = []\n",
    "    for row in reader:\n",
    "        if names2 == None:\n",
    "            names2 = row\n",
    "            print names2\n",
    "        else:\n",
    "            values2.append([convert(x) for x in row])\n",
    "\n",
    "values2.sort(key = lambda x: x[0]) # sort by ID\n",
    "index = 0\n",
    "names =['id','actcount', 'med_ml_num','buynum', 'grind','quests_speed']\n",
    "while index < len(values2):\n",
    "    ID = values2[index][0]\n",
    "    i = index + 1\n",
    "    while i< len(values2) and values2[i][0] == ID:\n",
    "        i +=1\n",
    "    sl = values2[index:i-1]\n",
    "    q = len(sl)\n",
    "    if q==0:\n",
    "        index+=1\n",
    "        continue\n",
    "    try:\n",
    "        values[ID] = [ID]\n",
    "        values[ID].append(q)\n",
    "        def to_float(s):\n",
    "            try:\n",
    "                return float(s)\n",
    "            except:\n",
    "                return 0\n",
    "        values[ID].append((max([to_float(x[6]) for x in sl])-min([to_float(x[6]) for x in sl]))*1.0/q)# speed of ml_num \n",
    "        values[ID].append(sum([to_float(x[12]) for x in sl])*1.0/q) # medium count of buynum\n",
    "        try:\n",
    "            values[ID].append(sum([to_float(x[11]) for x in sl])*1.0/q) # medium grind\n",
    "        except IndexError:\n",
    "            values[ID].append(0)\n",
    "        values[ID].append((max([to_float(x[8]) for x in sl])-min([to_float(x[8]) for x in sl]))*1.0/q) # quest speed\n",
    "    except Exception as err:\n",
    "        print \"ERROR: \"+format(err) \n",
    "        print ID\n",
    "        print sl\n",
    "    index = i\n",
    "lens = set()\n",
    "for ID in values:\n",
    "    lens.add(len(values[ID]))\n",
    "print lens"
   ]
  },
  {
   "cell_type": "markdown",
   "metadata": {},
   "source": [
    "Here we save our data to temporary file"
   ]
  },
  {
   "cell_type": "code",
   "execution_count": 6,
   "metadata": {
    "collapsed": false
   },
   "outputs": [],
   "source": [
    "with open('tmp.txt','wb') as f:\n",
    "    writer = csv.writer(f, delimiter='|',\n",
    "                            quotechar='\"', quoting=csv.QUOTE_MINIMAL)\n",
    "    writer.writerow(names)\n",
    "    for ID in values:\n",
    "        if len(values[ID])==9:\n",
    "            values[ID] += [0,0,0,0,0]\n",
    "        writer.writerow(values[ID])\n",
    "    f.close()"
   ]
  },
  {
   "cell_type": "code",
   "execution_count": 1,
   "metadata": {
    "collapsed": false
   },
   "outputs": [
    {
     "ename": "NameError",
     "evalue": "name 'pd' is not defined",
     "output_type": "error",
     "traceback": [
      "\u001b[1;31m---------------------------------------------------------------------------\u001b[0m",
      "\u001b[1;31mNameError\u001b[0m                                 Traceback (most recent call last)",
      "\u001b[1;32m<ipython-input-1-ad0be9790bdd>\u001b[0m in \u001b[0;36m<module>\u001b[1;34m()\u001b[0m\n\u001b[1;32m----> 1\u001b[1;33m \u001b[0mdf\u001b[0m \u001b[1;33m=\u001b[0m \u001b[0mpd\u001b[0m\u001b[1;33m.\u001b[0m\u001b[0mread_csv\u001b[0m\u001b[1;33m(\u001b[0m\u001b[1;34m'tmp.txt'\u001b[0m\u001b[1;33m,\u001b[0m \u001b[0msep\u001b[0m \u001b[1;33m=\u001b[0m \u001b[1;34m'|'\u001b[0m\u001b[1;33m,\u001b[0m \u001b[0mlow_memory\u001b[0m \u001b[1;33m=\u001b[0m \u001b[0mFalse\u001b[0m\u001b[1;33m)\u001b[0m\u001b[1;33m\u001b[0m\u001b[0m\n\u001b[0m\u001b[0;32m      2\u001b[0m \u001b[0mdf\u001b[0m\u001b[1;33m\u001b[0m\u001b[0m\n",
      "\u001b[1;31mNameError\u001b[0m: name 'pd' is not defined"
     ]
    }
   ],
   "source": [
    "df = pd.read_csv('tmp.txt', sep = '|', low_memory = False)\n",
    "df"
   ]
  },
  {
   "cell_type": "markdown",
   "metadata": {},
   "source": [
    "This is calculation of clusters with different number of centroids"
   ]
  },
  {
   "cell_type": "code",
   "execution_count": 42,
   "metadata": {
    "collapsed": false
   },
   "outputs": [
    {
     "name": "stdout",
     "output_type": "stream",
     "text": [
      "Done for 3\n",
      "Done for 4\n",
      "Done for 5\n",
      "Done for 6\n",
      "Done for 7\n"
     ]
    }
   ],
   "source": [
    "clusters = []\n",
    "for cluster_num in xrange(3,8):\n",
    "    i = 0\n",
    "    kmeans = KMeans(n_clusters = cluster_num)\n",
    "    kmeans.fit(df.ix[:,['actcount','med_ml_num','buynum', 'grind','quests_speed']])\n",
    "    best = kmeans\n",
    "    for x in range(5):\n",
    "        kmeans = KMeans(n_clusters = cluster_num)\n",
    "        kmeans.fit(df.ix[:,['actcount','med_ml_num','buynum', 'grind','quests_speed']])\n",
    "        if kmeans.inertia_<best.inertia_:\n",
    "            best = kmeans\n",
    "    clusters.append(best)\n",
    "    print \"Done for %d\"%cluster_num"
   ]
  },
  {
   "cell_type": "markdown",
   "metadata": {},
   "source": [
    "Show info of clustering"
   ]
  },
  {
   "cell_type": "code",
   "execution_count": 43,
   "metadata": {
    "collapsed": false
   },
   "outputs": [
    {
     "name": "stdout",
     "output_type": "stream",
     "text": [
      "For number of clusters 3:\n",
      "Inertia 195481322.9306\n",
      "    3.0885      0.0117      0.5764      1.2439      0.6503\n",
      "   21.3391      0.0930     11.0859    404.9290      5.5140\n",
      "    4.9412      0.0810     12.7314   1867.3107      6.0100\n",
      "For number of clusters 4:\n",
      "Inertia 150455254.9375\n",
      "    3.0675      0.0116      0.5707      1.1124      0.6476\n",
      "    4.5351      0.0951     19.8742   1268.4983      6.6696\n",
      "   12.0000      0.1353      0.5920   3606.8373      5.6230\n",
      "   24.7312      0.0913      9.5904    316.6254      5.1220\n",
      "For number of clusters 5:\n",
      "Inertia 108657443.2572\n",
      "    1.4508      0.0106      0.3596      0.4964      0.6375\n",
      "    4.5351      0.0951     19.8742   1268.4983      6.6696\n",
      "   12.0000      0.1353      0.5920   3606.8373      5.6230\n",
      "   20.8351      0.0914      9.4283    344.6899      5.4372\n",
      "   65.8890      0.0537      8.8570     27.8969      1.0879\n",
      "For number of clusters 6:\n",
      "Inertia 85503574.4815\n",
      "    1.4535      0.0107      0.3685      0.5943      0.6415\n",
      "   16.1429      0.1219      0.8457   4036.7676      5.8186\n",
      "    3.6557      0.0763     14.0953   1618.3567      6.0320\n",
      "    8.1529      0.0911     16.5916    669.8253      6.7465\n",
      "   26.1693      0.0911      7.5659    212.4996      4.7186\n",
      "   71.3644      0.0484      8.9723     15.9098      0.6812\n",
      "For number of clusters 7:\n",
      "Inertia 72961327.1073\n",
      "    1.4514      0.0106      0.3684      0.5509      0.6395\n",
      "   13.4728      0.0842     12.8020    486.4568      6.2730\n",
      "    3.5000      0.0579      1.1049   2107.2110      3.7639\n",
      "   27.1540      0.0916      7.0604    170.4532      4.3362\n",
      "   21.0000      0.1040      1.1840   4447.5080      1.7460\n",
      "   71.7377      0.0479      8.8731     14.4364      0.6665\n",
      "    4.7419      0.1093     24.0530   1114.5393      7.6342\n"
     ]
    }
   ],
   "source": [
    "for kmeans,i in zip(clusters,xrange(3,8)):\n",
    "    print \"For number of clusters %d:\"%i\n",
    "    print \"Inertia \"+\"{:10.4f}\".format(kmeans.inertia_)\n",
    "    for x in kmeans.cluster_centers_:\n",
    "        print '  '.join(\"{:10.4f}\".format(i) for i in x)"
   ]
  },
  {
   "cell_type": "markdown",
   "metadata": {},
   "source": [
    "This is visualization for a \"elbow rule\""
   ]
  },
  {
   "cell_type": "code",
   "execution_count": 44,
   "metadata": {
    "collapsed": false
   },
   "outputs": [
    {
     "data": {
      "image/png": "[encoded data removed]",
      "text/plain": [
       "<matplotlib.figure.Figure at 0x3f922d68>"
      ]
     },
     "metadata": {},
     "output_type": "display_data"
    }
   ],
   "source": [
    "plt.plot(xrange(3,8),[x.inertia_ for x in clusters])\n",
    "plt.ylabel('cost functions')\n",
    "plt.show()"
   ]
  },
  {
   "cell_type": "code",
   "execution_count": null,
   "metadata": {
    "collapsed": true
   },
   "outputs": [],
   "source": []
  },
  {
   "cell_type": "code",
   "execution_count": null,
   "metadata": {
    "collapsed": true
   },
   "outputs": [],
   "source": []
  }
 ],
 "metadata": {
  "anaconda-cloud": {},
  "kernelspec": {
   "display_name": "Python [Root]",
   "language": "python",
   "name": "Python [Root]"
  },
  "language_info": {
   "codemirror_mode": {
    "name": "ipython",
    "version": 2
   },
   "file_extension": ".py",
   "mimetype": "text/x-python",
   "name": "python",
   "nbconvert_exporter": "python",
   "pygments_lexer": "ipython2",
   "version": "2.7.12"
  }
 },
 "nbformat": 4,
 "nbformat_minor": 0
}
