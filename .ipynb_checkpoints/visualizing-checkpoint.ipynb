{
 "cells": [
  {
   "cell_type": "markdown",
   "metadata": {},
   "source": [
    "# This script used to show graph of jumps users between clusters"
   ]
  },
  {
   "cell_type": "code",
   "execution_count": null,
   "metadata": {
    "collapsed": false
   },
   "outputs": [],
   "source": [
    "import csv\n",
    "import numpy as np\n",
    "import matplotlib.pyplot as plt\n",
    "import pandas as pd\n",
    "import matplotlib.patches as patches\n",
    "import matplotlib.gridspec as gridspec\n",
    "import matplotlib.font_manager as font_manager\n",
    "import networkx as nx\n",
    "import pydotplus\n",
    "from networkx.drawing.nx_pydot import graphviz_layout\n",
    "%matplotlib inline"
   ]
  },
  {
   "cell_type": "markdown",
   "metadata": {},
   "source": [
    "Initializing"
   ]
  },
  {
   "cell_type": "code",
   "execution_count": null,
   "metadata": {
    "collapsed": false
   },
   "outputs": [],
   "source": [
    "pinfo = 'pinfo.csv'\n",
    "border_times = [7,14,28,56,200]\n",
    "all_ids = set([int(x) for x in pd.read_csv(pinfo,sep = '|', low_memory = False)['id']])"
   ]
  },
  {
   "cell_type": "markdown",
   "metadata": {},
   "source": [
    "This is loader of cluster data from files"
   ]
  },
  {
   "cell_type": "code",
   "execution_count": null,
   "metadata": {
    "collapsed": false
   },
   "outputs": [],
   "source": [
    "clusters_dicts = [] # day, {dictionary[cluster_id] : set of id }\n",
    "for days in border_times:\n",
    "    fname = 'cluster_elements_%d.csv'%days\n",
    "    df = pd.read_csv(fname,sep = '|', low_memory = False)\n",
    "    elements = dict()\n",
    "    for x in xrange(10):\n",
    "        filt = df[df['cluster_index']==x]['id']\n",
    "        if len(filt)==0: break\n",
    "        elements[x] = set(filt)\n",
    "    unacted = set(all_ids)\n",
    "    for x in elements:\n",
    "        unacted = unacted - elements[x]\n",
    "    elements[-1] = unacted\n",
    "    clusters_dicts.append((days,elements))"
   ]
  },
  {
   "cell_type": "code",
   "execution_count": null,
   "metadata": {
    "collapsed": false
   },
   "outputs": [],
   "source": [
    "graph = nx.DiGraph()\n",
    "# how many of input or output by the cluster must be to draw this edge\n",
    "significance = 0.1\n",
    "# adding nodes\n",
    "lbs = dict()\n",
    "for x in clusters_dicts:\n",
    "    for cluster in x[1]:\n",
    "        graph.add_node(str(x[0]) + '_' + str(cluster))\n",
    "        lbs[str(x[0]) + '_' + str(cluster)] = str(cluster)\n",
    "# adding edges\n",
    "edge_lbs = dict()\n",
    "for i in xrange(len(border_times)-1):\n",
    "    prev = clusters_dicts[i][1]\n",
    "    nxt = clusters_dicts[i+1][1]\n",
    "    for c_p_id in prev:\n",
    "        for c_n_id in nxt:\n",
    "            inters = prev[c_p_id] & nxt[c_n_id]\n",
    "            part_out = len(inters)*1./len(prev[c_p_id])\n",
    "            part_in = len(inters)*1./len(nxt[c_n_id])\n",
    "            if part_out>=significance or part_in>=significance:\n",
    "                edge = str(clusters_dicts[i][0]) + '_' + str(c_p_id),str(clusters_dicts[i+1][0])+ '_' + str(c_n_id)\n",
    "                graph.add_edge(edge[0], edge[1])\n",
    "                # Здесь много тире, так как я делаю костыль, ибо надписи на рёбрах графа перекрываются\n",
    "                # Для раскрытия художественного замысла сего костыля пишу комментарии на русском\n",
    "                # Dashes were used for avoiding collision of labels \n",
    "                edge_lbs[edge] = \"out: %.1f ------ in: %.1f\"%  (100*part_out, 100*part_in) \n",
    "                #edge_lbs[edge] = \"%d ------------\"%  len(inters) \n",
    "pos = graphviz_layout(graph, prog='dot', args='')\n",
    "fig = plt.figure(figsize=(30, 15))\n",
    "# sizes of subplots\n",
    "grid_spec = gridspec.GridSpec(1,2, width_ratios=[3, 1])\n",
    "# nodes of the graph\n",
    "ax = fig.add_subplot(grid_spec[0])\n",
    "ax.axis('off')\n",
    "ax.set_title('User migrations by time after registration')\n",
    "# nx.draw(G, pos, node_size=400, alpha=0.5, node_color=clrs, labels = lb2, arrows=False, width = 2)\n",
    "nx.draw_networkx_edges(graph, pos, node_size=400, alpha=0.5, arrows=False, width = 1.3)\n",
    "nx.draw_networkx_nodes(graph, pos,node_color = 'b', alpha = 0.5)\n",
    "nx.draw_networkx_labels(graph, pos, node_size=400,  width = .3, labels = lbs)\n",
    "nx.draw_networkx_edge_labels(graph, pos, node_size=400,  width = .3, edge_labels = edge_lbs)\n",
    "# some info in right\n",
    "ax = fig.add_subplot(grid_spec[1])\n",
    "ax.axis('off')\n",
    "vertical_margin_multiplier = 1.3\n",
    "font_size = 12\n",
    "font_properties = font_manager.FontProperties(size = font_size)\n",
    "fheight = font_properties.get_size_in_points()\n",
    "tick = 0.4/((sum([len(x) for x in clusters_dicts])+len(clusters_dicts))*vertical_margin_multiplier)\n",
    "tick = (1+vertical_margin_multiplier)*fheight if (1+vertical_margin_multiplier)*fheight < tick else tick\n",
    "cntx = 0.95\n",
    "ax.set_title('Users count in clusters')\n",
    "for days in border_times:\n",
    "    cntx -= tick\n",
    "    ax.text(0, cntx,'Numbers for days %d:'%days, fontsize=font_size)\n",
    "    for cluster_dict in [x[1] for x in clusters_dicts if x[0]==days]:\n",
    "        for cluster_id in cluster_dict:\n",
    "            cntx -= tick\n",
    "            ax.text(0, cntx,'    %d - %d:'%(cluster_id, len(cluster_dict[cluster_id])), fontsize=font_size)\n",
    "fig.savefig(\"out.png\")"
   ]
  },
  {
   "cell_type": "markdown",
   "metadata": {
    "collapsed": false
   },
   "source": [
    "while True:\n",
    "    print 'First'\n",
    "    print 'Input index of period'\n",
    "    i0 = input()\n",
    "    print 'Input index of cluster'\n",
    "    ci0 = input()\n",
    "    print 'Second'\n",
    "    print 'Input index of period'\n",
    "    i1 = input()\n",
    "    print 'Input index of cluster'\n",
    "    ci1 = input()\n",
    "    print 'Len %d'% len(clusters_dicts[i0][1][ci0] & clusters_dicts[i1][1][ci1])"
   ]
  },
  {
   "cell_type": "code",
   "execution_count": null,
   "metadata": {
    "collapsed": true
   },
   "outputs": [],
   "source": []
  },
  {
   "cell_type": "code",
   "execution_count": null,
   "metadata": {
    "collapsed": true
   },
   "outputs": [],
   "source": []
  }
 ],
 "metadata": {
  "anaconda-cloud": {},
  "kernelspec": {
   "display_name": "Python [Root]",
   "language": "python",
   "name": "Python [Root]"
  },
  "language_info": {
   "codemirror_mode": {
    "name": "ipython",
    "version": 2
   },
   "file_extension": ".py",
   "mimetype": "text/x-python",
   "name": "python",
   "nbconvert_exporter": "python",
   "pygments_lexer": "ipython2",
   "version": "2.7.12"
  }
 },
 "nbformat": 4,
 "nbformat_minor": 0
}
