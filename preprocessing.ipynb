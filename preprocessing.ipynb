{
 "cells": [
  {
   "cell_type": "markdown",
   "metadata": {},
   "source": [
    "# This is script  to divide data by time and calculate clustering params"
   ]
  },
  {
   "cell_type": "code",
   "execution_count": 1,
   "metadata": {
    "collapsed": true
   },
   "outputs": [],
   "source": [
    "import csv\n",
    "import numpy as np\n",
    "import pandas as pd\n",
    "import sys\n",
    "import datetime as dt\n",
    "from sklearn.cluster import KMeans"
   ]
  },
  {
   "cell_type": "markdown",
   "metadata": {},
   "source": [
    "Constants"
   ]
  },
  {
   "cell_type": "code",
   "execution_count": 2,
   "metadata": {
    "collapsed": false
   },
   "outputs": [],
   "source": [
    "pactcsv = 'pact.csv'\n",
    "pinfocsv = 'pinfo.csv'\n",
    "border_times = [7,14,28,56,200]\n",
    "def convert(s):\n",
    "            try:\n",
    "                return int(s)\n",
    "            except:\n",
    "                pass\n",
    "            try:\n",
    "                return float(s)\n",
    "            except:\n",
    "                # booleans\n",
    "                if s == 'False':\n",
    "                    return 0\n",
    "                elif s=='True':\n",
    "                    return 1\n",
    "                # genders\n",
    "                elif s=='f':\n",
    "                    return -1\n",
    "                elif s=='m':\n",
    "                    return 1\n",
    "                else:\n",
    "                    return s"
   ]
  },
  {
   "cell_type": "markdown",
   "metadata": {},
   "source": [
    "Loading data from pinfo.csv"
   ]
  },
  {
   "cell_type": "code",
   "execution_count": 3,
   "metadata": {
    "collapsed": false
   },
   "outputs": [],
   "source": [
    "registration_times = dict()\n",
    "with open (pinfocsv,'r') as f:\n",
    "    reader = csv.reader(f,  delimiter='|')\n",
    "    fl = False\n",
    "    for row in reader:\n",
    "        if not fl:\n",
    "            fl = True\n",
    "        else:\n",
    "            registration_times[int(row[0])] = dt.datetime.fromtimestamp(int(row[1]))"
   ]
  },
  {
   "cell_type": "markdown",
   "metadata": {},
   "source": [
    "Loading of data about actions"
   ]
  },
  {
   "cell_type": "code",
   "execution_count": 4,
   "metadata": {
    "collapsed": false
   },
   "outputs": [
    {
     "name": "stdout",
     "output_type": "stream",
     "text": [
      "['id', 'actdate', 'actdate_num', 'actflag', 'payflag', 'pgrflag', 'ml_num', 'transactions', 'quests_end', 'm_quests_end', 'grindnum', 'asknum', 'buynum', 'crystallnum', 'days_from_last_actdate', 'days_from_last_payment']\n"
     ]
    }
   ],
   "source": [
    "with open (pactcsv,'r') as f:\n",
    "    reader = csv.reader(f,  delimiter='|')\n",
    "    names = None\n",
    "    values2 = []\n",
    "    for row in reader:\n",
    "        if names == None:\n",
    "            names = row\n",
    "            print names\n",
    "        else:\n",
    "            values2.append([convert(x) for x in row])"
   ]
  },
  {
   "cell_type": "markdown",
   "metadata": {},
   "source": [
    "Division of data by time"
   ]
  },
  {
   "cell_type": "code",
   "execution_count": 5,
   "metadata": {
    "collapsed": false
   },
   "outputs": [
    {
     "name": "stdout",
     "output_type": "stream",
     "text": [
      "2016-07-04\n",
      "2016-01-01\n"
     ]
    }
   ],
   "source": [
    "seconds_in_day =86400\n",
    "act_date = names.index('actdate')\n",
    "min_date = min([x[act_date] for x in values2])\n",
    "print max([x[act_date] for x in values2])\n",
    "print min_date\n",
    "min_date = dt.datetime.strptime(min_date, \"%Y-%m-%d\")\n",
    "divided_data = []\n",
    "prev = 0\n",
    "for days in border_times:\n",
    "    def predicate(activity):\n",
    "        sec = (dt.datetime.strptime(activity[act_date], \"%Y-%m-%d\")- registration_times[activity[0]]).total_seconds()\n",
    "        return prev< sec and sec<=days*seconds_in_day\n",
    "    divided_data.append([x for x in values2 if predicate(x)])\n",
    "    prev = days"
   ]
  },
  {
   "cell_type": "markdown",
   "metadata": {},
   "source": [
    "Preprocessing and output of data"
   ]
  },
  {
   "cell_type": "code",
   "execution_count": 6,
   "metadata": {
    "collapsed": false
   },
   "outputs": [
    {
     "name": "stdout",
     "output_type": "stream",
     "text": [
      "set([6])\n",
      "set([6])\n",
      "set([6])\n",
      "set([6])\n",
      "set([6])\n"
     ]
    }
   ],
   "source": [
    "def output(data, names, filename):\n",
    "    with open(filename,'wb') as f:\n",
    "        writer = csv.writer(f, delimiter='|',\n",
    "                                quotechar='\"', quoting=csv.QUOTE_MINIMAL)\n",
    "        writer.writerow(names)\n",
    "        for ID in data:\n",
    "            writer.writerow(data[ID])\n",
    "        f.close()\n",
    "def preprocess(values2, total_days):\n",
    "    values2.sort(key = lambda x: x[0]) # sort by ID\n",
    "    values = dict()\n",
    "    index = 0\n",
    "    names =['id','activity_quantity','med_ml_num','buynum', 'grind','quests_speed']\n",
    "    while index < len(values2):\n",
    "        ID = values2[index][0]\n",
    "        i = index + 1\n",
    "        while i< len(values2) and values2[i][0] == ID:\n",
    "            i +=1\n",
    "        sl = values2[index:i-1]\n",
    "        q = len(sl)\n",
    "        if q==0:\n",
    "            index+=1\n",
    "            continue\n",
    "        try:\n",
    "            values[ID] = [ID]\n",
    "            values[ID].append(q)\n",
    "            def to_float(s):\n",
    "                try:\n",
    "                    return float(s)\n",
    "                except:\n",
    "                    return 0\n",
    "            values[ID].append((max([to_float(x[6]) for x in sl])-min([to_float(x[6]) for x in sl]))*1.0/q)# speed of ml_num \n",
    "            values[ID].append(sum([to_float(x[12]) for x in sl])*1.0/q) # medium count of buynum\n",
    "            try:\n",
    "                values[ID].append(sum([to_float(x[11]) for x in sl])*1.0/q) # medium grind\n",
    "            except IndexError:\n",
    "                values[ID].append(0)\n",
    "            values[ID].append((max([to_float(x[8]) for x in sl])-min([to_float(x[8]) for x in sl]))*1.0/q) # quest speed\n",
    "        except Exception as err:\n",
    "            print \"ERROR: \"+format(err) \n",
    "            print ID\n",
    "            print sl\n",
    "        index = i\n",
    "    lens = set()\n",
    "    for ID in values:\n",
    "        lens.add(len(values[ID]))\n",
    "    print lens\n",
    "    output(values, names, 'preprocessed_%d.csv'%total_days)\n",
    "\n",
    "for i in xrange(len(border_times)):\n",
    "    preprocess(divided_data[i],border_times[i])\n"
   ]
  },
  {
   "cell_type": "code",
   "execution_count": null,
   "metadata": {
    "collapsed": true
   },
   "outputs": [],
   "source": []
  }
 ],
 "metadata": {
  "kernelspec": {
   "display_name": "Python [Root]",
   "language": "python",
   "name": "Python [Root]"
  },
  "language_info": {
   "codemirror_mode": {
    "name": "ipython",
    "version": 2
   },
   "file_extension": ".py",
   "mimetype": "text/x-python",
   "name": "python",
   "nbconvert_exporter": "python",
   "pygments_lexer": "ipython2",
   "version": "2.7.12"
  }
 },
 "nbformat": 4,
 "nbformat_minor": 0
}
